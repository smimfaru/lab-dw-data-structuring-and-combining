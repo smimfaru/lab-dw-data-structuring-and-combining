{
  "nbformat": 4,
  "nbformat_minor": 0,
  "metadata": {
    "colab": {
      "provenance": []
    },
    "kernelspec": {
      "name": "python3",
      "display_name": "Python 3"
    },
    "language_info": {
      "name": "python"
    }
  },
  "cells": [
    {
      "cell_type": "code",
      "execution_count": 1,
      "metadata": {
        "colab": {
          "base_uri": "https://localhost:8080/"
        },
        "id": "uL7zu_MOX9i3",
        "outputId": "d1024bb6-b2cd-4cef-fc71-a9ca59bb365f"
      },
      "outputs": [
        {
          "output_type": "stream",
          "name": "stdout",
          "text": [
            "Combined dataset shape: (12074, 13)\n"
          ]
        }
      ],
      "source": [
        "import pandas as pd\n",
        "\n",
        "# URLs for the datasets\n",
        "url1 = \"https://raw.githubusercontent.com/data-bootcamp-v4/data/main/file1.csv\"\n",
        "url2 = \"https://raw.githubusercontent.com/data-bootcamp-v4/data/main/file2.csv\"\n",
        "url3 = \"https://raw.githubusercontent.com/data-bootcamp-v4/data/main/file3.csv\"\n",
        "\n",
        "# Load datasets\n",
        "df1 = pd.read_csv(url1)\n",
        "df2 = pd.read_csv(url2)\n",
        "df3 = pd.read_csv(url3)\n",
        "\n",
        "# Combine datasets\n",
        "combined_df = pd.concat([df1, df2, df3], ignore_index=True)\n",
        "\n",
        "# Display the combined dataset structure\n",
        "print(f\"Combined dataset shape: {combined_df.shape}\")\n"
      ]
    },
    {
      "cell_type": "code",
      "source": [
        "# Standardize column names\n",
        "combined_df.columns = combined_df.columns.str.lower().str.replace(\" \", \"_\").str.replace(\"st\", \"state\")\n",
        "\n",
        "# Standardize values in specific columns\n",
        "# Gender\n",
        "combined_df['gender'] = combined_df['gender'].str.strip().str.upper().replace({'FEMAL': 'F', 'FEMALE': 'F', 'MALE': 'M'})\n",
        "\n",
        "# State abbreviations\n",
        "state_map = {'AZ': 'Arizona', 'Cali': 'California', 'WA': 'Washington'}\n",
        "combined_df['state'] = combined_df['state'].replace(state_map)\n",
        "\n",
        "# Education\n",
        "combined_df['education'] = combined_df['education'].replace({'Bachelors': 'Bachelor'})\n",
        "\n",
        "# Customer Lifetime Value\n",
        "combined_df['customer_lifetime_value'] = combined_df['customer_lifetime_value'].str.replace('%', '').astype(float)\n",
        "\n",
        "# Vehicle Class\n",
        "luxury_categories = ['Sports Car', 'Luxury SUV', 'Luxury Car']\n",
        "combined_df['vehicle_class'] = combined_df['vehicle_class'].replace(luxury_categories, 'Luxury')\n",
        "\n",
        "# Handle null values (fill numeric columns with mean, categorical with mode)\n",
        "for column in combined_df.columns:\n",
        "    if combined_df[column].dtype == 'object':\n",
        "        combined_df[column].fillna(combined_df[column].mode()[0], inplace=True)\n",
        "    else:\n",
        "        combined_df[column].fillna(combined_df[column].mean(), inplace=True)\n",
        "\n",
        "# Drop duplicates and reset index\n",
        "combined_df = combined_df.drop_duplicates().reset_index(drop=True)\n",
        "\n",
        "# Save cleaned combined dataset\n",
        "combined_df.to_csv(\"cleaned_combined_data.csv\", index=False)\n",
        "print(\"Cleaned combined dataset saved as 'cleaned_combined_data.csv'\")\n"
      ],
      "metadata": {
        "colab": {
          "base_uri": "https://localhost:8080/",
          "height": 332
        },
        "id": "yAxfzbj0Yc5T",
        "outputId": "ddfe2397-aea0-41d7-c147-6894328aac49"
      },
      "execution_count": 2,
      "outputs": [
        {
          "output_type": "error",
          "ename": "AttributeError",
          "evalue": "'DataFrame' object has no attribute 'str'",
          "traceback": [
            "\u001b[0;31m---------------------------------------------------------------------------\u001b[0m",
            "\u001b[0;31mAttributeError\u001b[0m                            Traceback (most recent call last)",
            "\u001b[0;32m<ipython-input-2-47bc376b0e38>\u001b[0m in \u001b[0;36m<cell line: 6>\u001b[0;34m()\u001b[0m\n\u001b[1;32m      4\u001b[0m \u001b[0;31m# Standardize values in specific columns\u001b[0m\u001b[0;34m\u001b[0m\u001b[0;34m\u001b[0m\u001b[0m\n\u001b[1;32m      5\u001b[0m \u001b[0;31m# Gender\u001b[0m\u001b[0;34m\u001b[0m\u001b[0;34m\u001b[0m\u001b[0m\n\u001b[0;32m----> 6\u001b[0;31m \u001b[0mcombined_df\u001b[0m\u001b[0;34m[\u001b[0m\u001b[0;34m'gender'\u001b[0m\u001b[0;34m]\u001b[0m \u001b[0;34m=\u001b[0m \u001b[0mcombined_df\u001b[0m\u001b[0;34m[\u001b[0m\u001b[0;34m'gender'\u001b[0m\u001b[0;34m]\u001b[0m\u001b[0;34m.\u001b[0m\u001b[0mstr\u001b[0m\u001b[0;34m.\u001b[0m\u001b[0mstrip\u001b[0m\u001b[0;34m(\u001b[0m\u001b[0;34m)\u001b[0m\u001b[0;34m.\u001b[0m\u001b[0mstr\u001b[0m\u001b[0;34m.\u001b[0m\u001b[0mupper\u001b[0m\u001b[0;34m(\u001b[0m\u001b[0;34m)\u001b[0m\u001b[0;34m.\u001b[0m\u001b[0mreplace\u001b[0m\u001b[0;34m(\u001b[0m\u001b[0;34m{\u001b[0m\u001b[0;34m'FEMAL'\u001b[0m\u001b[0;34m:\u001b[0m \u001b[0;34m'F'\u001b[0m\u001b[0;34m,\u001b[0m \u001b[0;34m'FEMALE'\u001b[0m\u001b[0;34m:\u001b[0m \u001b[0;34m'F'\u001b[0m\u001b[0;34m,\u001b[0m \u001b[0;34m'MALE'\u001b[0m\u001b[0;34m:\u001b[0m \u001b[0;34m'M'\u001b[0m\u001b[0;34m}\u001b[0m\u001b[0;34m)\u001b[0m\u001b[0;34m\u001b[0m\u001b[0;34m\u001b[0m\u001b[0m\n\u001b[0m\u001b[1;32m      7\u001b[0m \u001b[0;34m\u001b[0m\u001b[0m\n\u001b[1;32m      8\u001b[0m \u001b[0;31m# State abbreviations\u001b[0m\u001b[0;34m\u001b[0m\u001b[0;34m\u001b[0m\u001b[0m\n",
            "\u001b[0;32m/usr/local/lib/python3.10/dist-packages/pandas/core/generic.py\u001b[0m in \u001b[0;36m__getattr__\u001b[0;34m(self, name)\u001b[0m\n\u001b[1;32m   6297\u001b[0m         ):\n\u001b[1;32m   6298\u001b[0m             \u001b[0;32mreturn\u001b[0m \u001b[0mself\u001b[0m\u001b[0;34m[\u001b[0m\u001b[0mname\u001b[0m\u001b[0;34m]\u001b[0m\u001b[0;34m\u001b[0m\u001b[0;34m\u001b[0m\u001b[0m\n\u001b[0;32m-> 6299\u001b[0;31m         \u001b[0;32mreturn\u001b[0m \u001b[0mobject\u001b[0m\u001b[0;34m.\u001b[0m\u001b[0m__getattribute__\u001b[0m\u001b[0;34m(\u001b[0m\u001b[0mself\u001b[0m\u001b[0;34m,\u001b[0m \u001b[0mname\u001b[0m\u001b[0;34m)\u001b[0m\u001b[0;34m\u001b[0m\u001b[0;34m\u001b[0m\u001b[0m\n\u001b[0m\u001b[1;32m   6300\u001b[0m \u001b[0;34m\u001b[0m\u001b[0m\n\u001b[1;32m   6301\u001b[0m     \u001b[0;34m@\u001b[0m\u001b[0mfinal\u001b[0m\u001b[0;34m\u001b[0m\u001b[0;34m\u001b[0m\u001b[0m\n",
            "\u001b[0;31mAttributeError\u001b[0m: 'DataFrame' object has no attribute 'str'"
          ]
        }
      ]
    },
    {
      "cell_type": "code",
      "source": [
        "# Load the dataset\n",
        "url_marketing = \"https://raw.githubusercontent.com/data-bootcamp-v4/data/main/marketing_customer_analysis_clean.csv\"\n",
        "marketing_df = pd.read_csv(url_marketing)\n",
        "\n",
        "# Display dataset structure\n",
        "print(f\"Marketing dataset shape: {marketing_df.shape}\")\n",
        "print(marketing_df.head())\n"
      ],
      "metadata": {
        "colab": {
          "base_uri": "https://localhost:8080/"
        },
        "id": "EL3Py1p4YlUm",
        "outputId": "539459a9-feed-4cf1-8f31-c826ac3870e8"
      },
      "execution_count": 3,
      "outputs": [
        {
          "output_type": "stream",
          "name": "stdout",
          "text": [
            "Marketing dataset shape: (10910, 27)\n",
            "   unnamed:_0 customer       state  customer_lifetime_value response  \\\n",
            "0           0  DK49336     Arizona              4809.216960       No   \n",
            "1           1  KX64629  California              2228.525238       No   \n",
            "2           2  LZ68649  Washington             14947.917300       No   \n",
            "3           3  XL78013      Oregon             22332.439460      Yes   \n",
            "4           4  QA50777      Oregon              9025.067525       No   \n",
            "\n",
            "   coverage education effective_to_date employmentstatus gender  ...  \\\n",
            "0     Basic   College        2011-02-18         Employed      M  ...   \n",
            "1     Basic   College        2011-01-18       Unemployed      F  ...   \n",
            "2     Basic  Bachelor        2011-02-10         Employed      M  ...   \n",
            "3  Extended   College        2011-01-11         Employed      M  ...   \n",
            "4   Premium  Bachelor        2011-01-17    Medical Leave      F  ...   \n",
            "\n",
            "   number_of_policies     policy_type        policy  renew_offer_type  \\\n",
            "0                   9  Corporate Auto  Corporate L3            Offer3   \n",
            "1                   1   Personal Auto   Personal L3            Offer4   \n",
            "2                   2   Personal Auto   Personal L3            Offer3   \n",
            "3                   2  Corporate Auto  Corporate L3            Offer2   \n",
            "4                   7   Personal Auto   Personal L2            Offer1   \n",
            "\n",
            "   sales_channel  total_claim_amount  vehicle_class  vehicle_size  \\\n",
            "0          Agent          292.800000  Four-Door Car       Medsize   \n",
            "1    Call Center          744.924331  Four-Door Car       Medsize   \n",
            "2    Call Center          480.000000            SUV       Medsize   \n",
            "3         Branch          484.013411  Four-Door Car       Medsize   \n",
            "4         Branch          707.925645  Four-Door Car       Medsize   \n",
            "\n",
            "  vehicle_type month  \n",
            "0            A     2  \n",
            "1            A     1  \n",
            "2            A     2  \n",
            "3            A     1  \n",
            "4            A     1  \n",
            "\n",
            "[5 rows x 27 columns]\n"
          ]
        }
      ]
    },
    {
      "cell_type": "code",
      "source": [
        "# Create a pivot table for total revenue by sales channel\n",
        "revenue_by_channel = marketing_df.pivot_table(\n",
        "    index='sales_channel',\n",
        "    values='total_claim_amount',\n",
        "    aggfunc='sum'\n",
        ").round(2)\n",
        "\n",
        "# Display and analyze the table\n",
        "print(\"Total Revenue by Sales Channel:\")\n",
        "print(revenue_by_channel)\n",
        "\n",
        "# Insights:\n",
        "# - Identify which sales channel generates the most revenue.\n",
        "# - Focus marketing strategies on the top-performing sales channel.\n"
      ],
      "metadata": {
        "colab": {
          "base_uri": "https://localhost:8080/"
        },
        "id": "2OyEWXkCYprM",
        "outputId": "04c5095b-2266-4c59-ca08-bb8b05725727"
      },
      "execution_count": 4,
      "outputs": [
        {
          "output_type": "stream",
          "name": "stdout",
          "text": [
            "Total Revenue by Sales Channel:\n",
            "               total_claim_amount\n",
            "sales_channel                    \n",
            "Agent                  1810226.82\n",
            "Branch                 1301204.00\n",
            "Call Center             926600.82\n",
            "Web                     706600.04\n"
          ]
        }
      ]
    },
    {
      "cell_type": "code",
      "source": [
        "# Create a pivot table for average customer lifetime value by gender and education level\n",
        "clv_by_gender_education = marketing_df.pivot_table(\n",
        "    index='gender',\n",
        "    columns='education',\n",
        "    values='customer_lifetime_value',\n",
        "    aggfunc='mean'\n",
        ").round(2)\n",
        "\n",
        "# Display and analyze the table\n",
        "print(\"Average Customer Lifetime Value by Gender and Education:\")\n",
        "print(clv_by_gender_education)\n",
        "\n",
        "# Insights:\n",
        "# - Determine if there is a significant difference in CLV based on gender or education.\n",
        "# - Tailor marketing efforts toward high-CLV segments.\n"
      ],
      "metadata": {
        "id": "VoaW-90wYuSF",
        "outputId": "b147fbad-4db4-4577-8a61-acb8e57e4432",
        "colab": {
          "base_uri": "https://localhost:8080/"
        }
      },
      "execution_count": 5,
      "outputs": [
        {
          "output_type": "stream",
          "name": "stdout",
          "text": [
            "Average Customer Lifetime Value by Gender and Education:\n",
            "education  Bachelor  College   Doctor  High School or Below   Master\n",
            "gender                                                              \n",
            "F           7874.27  7748.82  7328.51               8675.22  8157.05\n",
            "M           7703.60  8052.46  7415.33               8149.69  8168.83\n"
          ]
        }
      ]
    }
  ]
}